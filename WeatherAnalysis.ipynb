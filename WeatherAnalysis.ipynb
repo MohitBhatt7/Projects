{
  "nbformat": 4,
  "nbformat_minor": 0,
  "metadata": {
    "colab": {
      "provenance": [],
      "gpuType": "T4",
      "authorship_tag": "ABX9TyOhxTG4mdCH6OB9iYWp7CEW",
      "include_colab_link": true
    },
    "kernelspec": {
      "name": "python3",
      "display_name": "Python 3"
    },
    "language_info": {
      "name": "python"
    },
    "accelerator": "GPU"
  },
  "cells": [
    {
      "cell_type": "markdown",
      "metadata": {
        "id": "view-in-github",
        "colab_type": "text"
      },
      "source": [
        "<a href=\"https://colab.research.google.com/github/MohitBhatt7/Projects/blob/main/WeatherAnalysis.ipynb\" target=\"_parent\"><img src=\"https://colab.research.google.com/assets/colab-badge.svg\" alt=\"Open In Colab\"/></a>"
      ]
    },
    {
      "cell_type": "markdown",
      "source": [
        "# Analytical project on weather anaysis."
      ],
      "metadata": {
        "id": "1Niw5uOoPqTd"
      }
    },
    {
      "cell_type": "code",
      "source": [
        "import pandas as pd\n",
        "Data = pd.read_csv(\"/content/GlobalWeatherRepository.csv\")\n",
        "print(Data)"
      ],
      "metadata": {
        "colab": {
          "base_uri": "https://localhost:8080/"
        },
        "id": "nMcGpzMSLV1A",
        "outputId": "c5cc018b-6c05-42d8-f316-23527b429de5"
      },
      "execution_count": null,
      "outputs": [
        {
          "output_type": "stream",
          "name": "stdout",
          "text": [
            "           country     location_name  latitude  longitude         timezone  \\\n",
            "0      Afghanistan             Kabul   34.5200    69.1800       Asia/Kabul   \n",
            "1          Albania            Tirana   41.3300    19.8200    Europe/Tirane   \n",
            "2          Algeria           Algiers   36.7600     3.0500   Africa/Algiers   \n",
            "3          Andorra  Andorra La Vella   42.5000     1.5200   Europe/Andorra   \n",
            "4           Angola            Luanda   -8.8400    13.2300    Africa/Luanda   \n",
            "...            ...               ...       ...        ...              ...   \n",
            "69767    Venezuela           Caracas   10.5000   -66.9167  America/Caracas   \n",
            "69768      Vietnam             Hanoi   21.0333   105.8500     Asia/Bangkok   \n",
            "69769        Yemen             Sanaa   15.3547    44.2067        Asia/Aden   \n",
            "69770       Zambia            Lusaka  -15.4167    28.2833    Africa/Lusaka   \n",
            "69771     Zimbabwe            Harare  -17.8178    31.0447    Africa/Harare   \n",
            "\n",
            "       last_updated_epoch      last_updated  temperature_celsius  \\\n",
            "0              1715849100  2024-05-16 13:15                 26.6   \n",
            "1              1715849100  2024-05-16 10:45                 19.0   \n",
            "2              1715849100  2024-05-16 09:45                 23.0   \n",
            "3              1715849100  2024-05-16 10:45                  6.3   \n",
            "4              1715849100  2024-05-16 09:45                 26.0   \n",
            "...                   ...               ...                  ...   \n",
            "69767          1746867600  2025-05-10 05:00                 26.0   \n",
            "69768          1746867600  2025-05-10 16:00                 29.3   \n",
            "69769          1746867600  2025-05-10 12:00                 25.4   \n",
            "69770          1746867600  2025-05-10 11:00                 24.5   \n",
            "69771          1746867600  2025-05-10 11:00                 23.7   \n",
            "\n",
            "       temperature_fahrenheit condition_text  ...  air_quality_PM2.5  \\\n",
            "0                        79.8  Partly Cloudy  ...              8.400   \n",
            "1                        66.2  Partly cloudy  ...              1.100   \n",
            "2                        73.4          Sunny  ...             10.400   \n",
            "3                        43.3  Light drizzle  ...              0.700   \n",
            "4                        78.8  Partly cloudy  ...            183.400   \n",
            "...                       ...            ...  ...                ...   \n",
            "69767                    78.8  Partly Cloudy  ...             17.760   \n",
            "69768                    84.7  Partly cloudy  ...             69.190   \n",
            "69769                    77.7          Sunny  ...             70.855   \n",
            "69770                    76.1          Sunny  ...              8.325   \n",
            "69771                    74.6          Sunny  ...             17.020   \n",
            "\n",
            "       air_quality_PM10  air_quality_us-epa-index air_quality_gb-defra-index  \\\n",
            "0                26.600                         1                          1   \n",
            "1                 2.000                         1                          1   \n",
            "2                18.400                         1                          1   \n",
            "3                 0.900                         1                          1   \n",
            "4               262.300                         5                         10   \n",
            "...                 ...                       ...                        ...   \n",
            "69767            19.240                         2                          2   \n",
            "69768            70.485                         4                          9   \n",
            "69769           494.505                         4                          9   \n",
            "69770            10.175                         1                          1   \n",
            "69771            17.945                         2                          2   \n",
            "\n",
            "        sunrise    sunset  moonrise   moonset      moon_phase  \\\n",
            "0      04:50 AM  06:50 PM  12:12 PM  01:11 AM  Waxing Gibbous   \n",
            "1      05:21 AM  07:54 PM  12:58 PM  02:14 AM  Waxing Gibbous   \n",
            "2      05:40 AM  07:50 PM  01:15 PM  02:14 AM  Waxing Gibbous   \n",
            "3      06:31 AM  09:11 PM  02:12 PM  03:31 AM  Waxing Gibbous   \n",
            "4      06:12 AM  05:55 PM  01:17 PM  12:38 AM  Waxing Gibbous   \n",
            "...         ...       ...       ...       ...             ...   \n",
            "69767  06:07 AM  06:41 PM  05:13 PM  04:31 AM  Waxing Gibbous   \n",
            "69768  05:21 AM  06:25 PM  04:30 PM  03:36 AM  Waxing Gibbous   \n",
            "69769  05:36 AM  06:23 PM  04:39 PM  03:52 AM  Waxing Gibbous   \n",
            "69770  06:20 AM  05:47 PM  04:15 PM  04:20 AM  Waxing Gibbous   \n",
            "69771  06:12 AM  05:33 PM  04:02 PM  04:11 AM  Waxing Gibbous   \n",
            "\n",
            "       moon_illumination  \n",
            "0                     55  \n",
            "1                     55  \n",
            "2                     55  \n",
            "3                     55  \n",
            "4                     55  \n",
            "...                  ...  \n",
            "69767                 94  \n",
            "69768                 92  \n",
            "69769                 93  \n",
            "69770                 93  \n",
            "69771                 93  \n",
            "\n",
            "[69772 rows x 41 columns]\n"
          ]
        }
      ]
    },
    {
      "cell_type": "code",
      "source": [
        "print(Data.head())"
      ],
      "metadata": {
        "colab": {
          "base_uri": "https://localhost:8080/"
        },
        "id": "FHONhICELbxJ",
        "outputId": "df271bb8-6e4e-43cb-ebe6-062f04ef4fb1"
      },
      "execution_count": null,
      "outputs": [
        {
          "output_type": "stream",
          "name": "stdout",
          "text": [
            "       country     location_name  latitude  longitude        timezone  \\\n",
            "0  Afghanistan             Kabul     34.52      69.18      Asia/Kabul   \n",
            "1      Albania            Tirana     41.33      19.82   Europe/Tirane   \n",
            "2      Algeria           Algiers     36.76       3.05  Africa/Algiers   \n",
            "3      Andorra  Andorra La Vella     42.50       1.52  Europe/Andorra   \n",
            "4       Angola            Luanda     -8.84      13.23   Africa/Luanda   \n",
            "\n",
            "   last_updated_epoch      last_updated  temperature_celsius  \\\n",
            "0          1715849100  2024-05-16 13:15                 26.6   \n",
            "1          1715849100  2024-05-16 10:45                 19.0   \n",
            "2          1715849100  2024-05-16 09:45                 23.0   \n",
            "3          1715849100  2024-05-16 10:45                  6.3   \n",
            "4          1715849100  2024-05-16 09:45                 26.0   \n",
            "\n",
            "   temperature_fahrenheit condition_text  ...  air_quality_PM2.5  \\\n",
            "0                    79.8  Partly Cloudy  ...                8.4   \n",
            "1                    66.2  Partly cloudy  ...                1.1   \n",
            "2                    73.4          Sunny  ...               10.4   \n",
            "3                    43.3  Light drizzle  ...                0.7   \n",
            "4                    78.8  Partly cloudy  ...              183.4   \n",
            "\n",
            "   air_quality_PM10  air_quality_us-epa-index air_quality_gb-defra-index  \\\n",
            "0              26.6                         1                          1   \n",
            "1               2.0                         1                          1   \n",
            "2              18.4                         1                          1   \n",
            "3               0.9                         1                          1   \n",
            "4             262.3                         5                         10   \n",
            "\n",
            "    sunrise    sunset  moonrise   moonset      moon_phase  moon_illumination  \n",
            "0  04:50 AM  06:50 PM  12:12 PM  01:11 AM  Waxing Gibbous                 55  \n",
            "1  05:21 AM  07:54 PM  12:58 PM  02:14 AM  Waxing Gibbous                 55  \n",
            "2  05:40 AM  07:50 PM  01:15 PM  02:14 AM  Waxing Gibbous                 55  \n",
            "3  06:31 AM  09:11 PM  02:12 PM  03:31 AM  Waxing Gibbous                 55  \n",
            "4  06:12 AM  05:55 PM  01:17 PM  12:38 AM  Waxing Gibbous                 55  \n",
            "\n",
            "[5 rows x 41 columns]\n"
          ]
        }
      ]
    },
    {
      "cell_type": "code",
      "source": [
        "print(Data.shape)"
      ],
      "metadata": {
        "colab": {
          "base_uri": "https://localhost:8080/"
        },
        "id": "KuXwjkk4L7xM",
        "outputId": "d8863150-d592-4816-eece-1e5da8c63dff"
      },
      "execution_count": null,
      "outputs": [
        {
          "output_type": "stream",
          "name": "stdout",
          "text": [
            "(69772, 41)\n"
          ]
        }
      ]
    },
    {
      "cell_type": "code",
      "source": [
        "print(Data.index)"
      ],
      "metadata": {
        "colab": {
          "base_uri": "https://localhost:8080/"
        },
        "id": "dyuiEhHOMCe_",
        "outputId": "cc3451e2-83ef-488a-c2d7-fbee93b0cdce"
      },
      "execution_count": null,
      "outputs": [
        {
          "output_type": "stream",
          "name": "stdout",
          "text": [
            "RangeIndex(start=0, stop=69772, step=1)\n"
          ]
        }
      ]
    },
    {
      "cell_type": "code",
      "source": [
        "print(Data.columns)"
      ],
      "metadata": {
        "colab": {
          "base_uri": "https://localhost:8080/"
        },
        "id": "HQILIs9pMaYW",
        "outputId": "febe0963-b061-4c37-e3e0-63f6e7e6b8f3"
      },
      "execution_count": null,
      "outputs": [
        {
          "output_type": "stream",
          "name": "stdout",
          "text": [
            "Index(['country', 'location_name', 'latitude', 'longitude', 'timezone',\n",
            "       'last_updated_epoch', 'last_updated', 'temperature_celsius',\n",
            "       'temperature_fahrenheit', 'condition_text', 'wind_mph', 'wind_kph',\n",
            "       'wind_degree', 'wind_direction', 'pressure_mb', 'pressure_in',\n",
            "       'precip_mm', 'precip_in', 'humidity', 'cloud', 'feels_like_celsius',\n",
            "       'feels_like_fahrenheit', 'visibility_km', 'visibility_miles',\n",
            "       'uv_index', 'gust_mph', 'gust_kph', 'air_quality_Carbon_Monoxide',\n",
            "       'air_quality_Ozone', 'air_quality_Nitrogen_dioxide',\n",
            "       'air_quality_Sulphur_dioxide', 'air_quality_PM2.5', 'air_quality_PM10',\n",
            "       'air_quality_us-epa-index', 'air_quality_gb-defra-index', 'sunrise',\n",
            "       'sunset', 'moonrise', 'moonset', 'moon_phase', 'moon_illumination'],\n",
            "      dtype='object')\n"
          ]
        }
      ]
    },
    {
      "cell_type": "code",
      "source": [
        "print(Data.dtypes)"
      ],
      "metadata": {
        "colab": {
          "base_uri": "https://localhost:8080/"
        },
        "id": "-yhrIISZM32A",
        "outputId": "97afe181-7fab-4a8b-c3c1-3c8c81d8936f"
      },
      "execution_count": null,
      "outputs": [
        {
          "output_type": "stream",
          "name": "stdout",
          "text": [
            "country                          object\n",
            "location_name                    object\n",
            "latitude                        float64\n",
            "longitude                       float64\n",
            "timezone                         object\n",
            "last_updated_epoch                int64\n",
            "last_updated                     object\n",
            "temperature_celsius             float64\n",
            "temperature_fahrenheit          float64\n",
            "condition_text                   object\n",
            "wind_mph                        float64\n",
            "wind_kph                        float64\n",
            "wind_degree                       int64\n",
            "wind_direction                   object\n",
            "pressure_mb                     float64\n",
            "pressure_in                     float64\n",
            "precip_mm                       float64\n",
            "precip_in                       float64\n",
            "humidity                          int64\n",
            "cloud                             int64\n",
            "feels_like_celsius              float64\n",
            "feels_like_fahrenheit           float64\n",
            "visibility_km                   float64\n",
            "visibility_miles                float64\n",
            "uv_index                        float64\n",
            "gust_mph                        float64\n",
            "gust_kph                        float64\n",
            "air_quality_Carbon_Monoxide     float64\n",
            "air_quality_Ozone               float64\n",
            "air_quality_Nitrogen_dioxide    float64\n",
            "air_quality_Sulphur_dioxide     float64\n",
            "air_quality_PM2.5               float64\n",
            "air_quality_PM10                float64\n",
            "air_quality_us-epa-index          int64\n",
            "air_quality_gb-defra-index        int64\n",
            "sunrise                          object\n",
            "sunset                           object\n",
            "moonrise                         object\n",
            "moonset                          object\n",
            "moon_phase                       object\n",
            "moon_illumination                 int64\n",
            "dtype: object\n"
          ]
        }
      ]
    },
    {
      "cell_type": "code",
      "source": [
        "print(Data[\"moon_illumination\"].unique())"
      ],
      "metadata": {
        "colab": {
          "base_uri": "https://localhost:8080/"
        },
        "id": "ZNR-L_XPNBgp",
        "outputId": "8f30ebd2-5ead-4975-c6a9-6354099967a2"
      },
      "execution_count": null,
      "outputs": [
        {
          "output_type": "stream",
          "name": "stdout",
          "text": [
            "[ 55  64  73  81  88  93  97 100  98  87  79  69  58  47  35  25  16   8\n",
            "   3   0   7  13  21  29  38  48  57  67  75  83  90  95  99  89  71  60\n",
            "  49  27  18  10   5   1   9  23  32  41  50  78  86  92  91  74  63  51\n",
            "  40  30  20  12   6   2  11  26  34  44  54  82  85  76  65  43  33  24\n",
            "  15   4  28  68  37  42  52  96  53  17  77  80  84  94  72  70  62  61\n",
            "  59  66  56  39  45  46  31  36  22  19  14]\n"
          ]
        }
      ]
    },
    {
      "cell_type": "code",
      "source": [
        "print(Data.nunique()) # Total number of unique values in whole dataframe."
      ],
      "metadata": {
        "colab": {
          "base_uri": "https://localhost:8080/"
        },
        "id": "E38xq3XcPDN6",
        "outputId": "c8e5edae-8984-4a1e-bc89-c4e59e840d3d"
      },
      "execution_count": null,
      "outputs": [
        {
          "output_type": "stream",
          "name": "stdout",
          "text": [
            "country                           210\n",
            "location_name                     248\n",
            "latitude                          383\n",
            "longitude                         389\n",
            "timezone                          190\n",
            "last_updated_epoch                694\n",
            "last_updated                    11635\n",
            "temperature_celsius               650\n",
            "temperature_fahrenheit           1072\n",
            "condition_text                     47\n",
            "wind_mph                          177\n",
            "wind_kph                          177\n",
            "wind_degree                       360\n",
            "wind_direction                     16\n",
            "pressure_mb                        89\n",
            "pressure_in                       207\n",
            "precip_mm                         534\n",
            "precip_in                          66\n",
            "humidity                           99\n",
            "cloud                             101\n",
            "feels_like_celsius                765\n",
            "feels_like_fahrenheit            1298\n",
            "visibility_km                      68\n",
            "visibility_miles                   13\n",
            "uv_index                          163\n",
            "gust_mph                          493\n",
            "gust_kph                          741\n",
            "air_quality_Carbon_Monoxide      3456\n",
            "air_quality_Ozone                 633\n",
            "air_quality_Nitrogen_dioxide     1607\n",
            "air_quality_Sulphur_dioxide      1659\n",
            "air_quality_PM2.5                3321\n",
            "air_quality_PM10                 4836\n",
            "air_quality_us-epa-index            6\n",
            "air_quality_gb-defra-index         10\n",
            "sunrise                           456\n",
            "sunset                            534\n",
            "moonrise                         1441\n",
            "moonset                          1441\n",
            "moon_phase                          8\n",
            "moon_illumination                 101\n",
            "dtype: int64\n"
          ]
        }
      ]
    },
    {
      "cell_type": "code",
      "source": [
        "print(Data.count()) # Returns the total number of non-null values."
      ],
      "metadata": {
        "colab": {
          "base_uri": "https://localhost:8080/"
        },
        "id": "P3HQO4SSPpdb",
        "outputId": "decdb173-0a52-4ed5-9d73-174b6d1ef7b4"
      },
      "execution_count": null,
      "outputs": [
        {
          "output_type": "stream",
          "name": "stdout",
          "text": [
            "country                         69772\n",
            "location_name                   69772\n",
            "latitude                        69772\n",
            "longitude                       69772\n",
            "timezone                        69772\n",
            "last_updated_epoch              69772\n",
            "last_updated                    69772\n",
            "temperature_celsius             69772\n",
            "temperature_fahrenheit          69772\n",
            "condition_text                  69772\n",
            "wind_mph                        69772\n",
            "wind_kph                        69772\n",
            "wind_degree                     69772\n",
            "wind_direction                  69772\n",
            "pressure_mb                     69772\n",
            "pressure_in                     69772\n",
            "precip_mm                       69772\n",
            "precip_in                       69772\n",
            "humidity                        69772\n",
            "cloud                           69772\n",
            "feels_like_celsius              69772\n",
            "feels_like_fahrenheit           69772\n",
            "visibility_km                   69772\n",
            "visibility_miles                69772\n",
            "uv_index                        69772\n",
            "gust_mph                        69772\n",
            "gust_kph                        69772\n",
            "air_quality_Carbon_Monoxide     69772\n",
            "air_quality_Ozone               69772\n",
            "air_quality_Nitrogen_dioxide    69772\n",
            "air_quality_Sulphur_dioxide     69772\n",
            "air_quality_PM2.5               69772\n",
            "air_quality_PM10                69772\n",
            "air_quality_us-epa-index        69772\n",
            "air_quality_gb-defra-index      69772\n",
            "sunrise                         69772\n",
            "sunset                          69772\n",
            "moonrise                        69772\n",
            "moonset                         69772\n",
            "moon_phase                      69772\n",
            "moon_illumination               69772\n",
            "dtype: int64\n"
          ]
        }
      ]
    },
    {
      "cell_type": "code",
      "source": [
        "print(Data.value_counts())"
      ],
      "metadata": {
        "colab": {
          "base_uri": "https://localhost:8080/"
        },
        "id": "SlGIqrUzQUcs",
        "outputId": "d9d57fd3-239a-4b6a-ed98-6e2d25113e5b"
      },
      "execution_count": null,
      "outputs": [
        {
          "output_type": "stream",
          "name": "stdout",
          "text": [
            "country      location_name  latitude  longitude  timezone         last_updated_epoch  last_updated      temperature_celsius  temperature_fahrenheit  condition_text  wind_mph  wind_kph  wind_degree  wind_direction  pressure_mb  pressure_in  precip_mm  precip_in  humidity  cloud  feels_like_celsius  feels_like_fahrenheit  visibility_km  visibility_miles  uv_index  gust_mph  gust_kph  air_quality_Carbon_Monoxide  air_quality_Ozone  air_quality_Nitrogen_dioxide  air_quality_Sulphur_dioxide  air_quality_PM2.5  air_quality_PM10  air_quality_us-epa-index  air_quality_gb-defra-index  sunrise   sunset    moonrise  moonset   moon_phase       moon_illumination\n",
            "火鸡           -Kingdom       38.8500   34.6500    Europe/Istanbul  1720875600          2024-07-13 16:00  29.7                 85.4                    Sunny           11.4      18.4      359          N               1003.0       29.62        0.0        0.0        24        4      27.9                82.3                   10.0           6.0               7.0       13.1      21.1      191.90                       85.1               0.400                         0.300                        3.000              3.400             1                         1                           05:28 AM  08:07 PM  12:32 PM  11:59 PM  First Quarter    41                   1\n",
            "Afghanistan  Kabul          34.5167   69.1833    Asia/Kabul       1727947800          2024-10-03 14:00  26.8                 80.2                    Sunny           4.3       6.8       101          ESE             1006.0       29.70        0.0        0.0        12        0      25.1                77.1                   10.0           6.0               7.0       4.9       7.9       320.05                       122.0              3.515                         13.690                       18.315             36.630            2                         2                           05:50 AM  05:35 PM  06:09 AM  05:47 PM  Waxing Crescent  0                    1\n",
            "                                                                  1728035100          2024-10-04 14:15  25.7                 78.2                    Sunny           4.9       7.9       70           ENE             1007.0       29.74        0.0        0.0        11        0      24.2                75.6                   10.0           6.0               7.0       5.7       9.1       342.25                       119.0              4.255                         16.650                       16.465             49.210            2                         2                           05:50 AM  05:33 PM  07:06 AM  06:11 PM  Waxing Crescent  1                    1\n",
            "                                                                  1728120600          2024-10-05 14:00  25.5                 77.8                    Sunny           12.1      19.4      29           NNE             1008.0       29.75        0.0        0.0        16        7      24.1                75.4                   10.0           6.0               7.0       13.9      22.4      395.90                       125.0              4.810                         25.530                       17.575             37.555            2                         2                           05:51 AM  05:32 PM  08:03 AM  06:38 PM  Waxing Crescent  4                    1\n",
            "                                                                  1728206100          2024-10-06 13:45  24.4                 75.8                    Sunny           5.4       8.6       72           ENE             1012.0       29.88        0.0        0.0        20        18     23.4                74.1                   10.0           6.0               6.0       6.2       9.9       695.60                       104.0              10.545                        16.650                       28.675             54.020            2                         3                           05:52 AM  05:31 PM  09:03 AM  07:10 PM  Waxing Crescent  9                    1\n",
            "                                                                                                                                                                                                                                                                                                                                                                                                                                                                                                                                                                                                                                                                                    ..\n",
            "                                                                  1729243800          2024-10-18 14:00  21.4                 70.5                    Sunny           3.4       5.4       62           ENE             1012.0       29.89        0.0        0.0        23        0      21.4                70.5                   10.0           6.0               2.7       3.9       6.2       538.35                       131.0              4.995                         27.750                       37.185             70.670            2                         4                           06:01 AM  05:15 PM  05:42 PM  06:51 AM  Waning Gibbous   100                  1\n",
            "                                                                  1729329300          2024-10-19 13:45  22.5                 72.5                    Sunny           2.2       3.6       110          ESE             1013.0       29.91        0.0        0.0        19        0      22.3                72.2                   10.0           6.0               4.4       2.6       4.1       706.70                       105.0              9.065                         22.200                       27.935             48.655            2                         3                           06:02 AM  05:14 PM  06:22 PM  08:07 AM  Waning Gibbous   96                   1\n",
            "                                                                  1729416600          2024-10-20 14:00  22.4                 72.3                    Sunny           4.9       7.9       60           ENE             1013.0       29.91        0.0        0.0        16        0      22.3                72.1                   10.0           6.0               2.7       5.7       9.1       540.20                       128.0              4.995                         26.825                       21.460             34.595            2                         2                           06:03 AM  05:13 PM  07:10 PM  09:23 AM  Waning Gibbous   91                   1\n",
            "                                                                  1729502100          2024-10-21 13:45  22.1                 71.7                    Sunny           2.7       4.3       111          ESE             1014.0       29.93        0.0        0.0        15        0      22.1                71.8                   10.0           6.0               4.4       3.1       5.0       758.50                       112.0              9.620                         30.340                       28.305             46.620            2                         3                           06:04 AM  05:11 PM  08:05 PM  10:34 AM  Waning Gibbous   83                   1\n",
            "                                                                  1729588500          2024-10-22 13:45  20.9                 69.6                    Sunny           4.3       6.8       59           ENE             1015.0       29.96        0.0        0.0        24        2      20.9                69.6                   10.0           6.0               4.1       4.9       7.9       960.15                       110.0              12.025                        17.575                       36.445             60.310            2                         4                           06:05 AM  05:10 PM  09:06 PM  11:37 AM  Waning Gibbous   74                   1\n",
            "Name: count, Length: 69772, dtype: int64\n"
          ]
        }
      ]
    },
    {
      "cell_type": "code",
      "source": [
        "print(Data.info())"
      ],
      "metadata": {
        "colab": {
          "base_uri": "https://localhost:8080/"
        },
        "id": "NiSEPjG2QqIy",
        "outputId": "1434091f-982d-4f1b-89d0-264dd5d2b32e"
      },
      "execution_count": null,
      "outputs": [
        {
          "output_type": "stream",
          "name": "stdout",
          "text": [
            "<class 'pandas.core.frame.DataFrame'>\n",
            "RangeIndex: 69772 entries, 0 to 69771\n",
            "Data columns (total 41 columns):\n",
            " #   Column                        Non-Null Count  Dtype  \n",
            "---  ------                        --------------  -----  \n",
            " 0   country                       69772 non-null  object \n",
            " 1   location_name                 69772 non-null  object \n",
            " 2   latitude                      69772 non-null  float64\n",
            " 3   longitude                     69772 non-null  float64\n",
            " 4   timezone                      69772 non-null  object \n",
            " 5   last_updated_epoch            69772 non-null  int64  \n",
            " 6   last_updated                  69772 non-null  object \n",
            " 7   temperature_celsius           69772 non-null  float64\n",
            " 8   temperature_fahrenheit        69772 non-null  float64\n",
            " 9   condition_text                69772 non-null  object \n",
            " 10  wind_mph                      69772 non-null  float64\n",
            " 11  wind_kph                      69772 non-null  float64\n",
            " 12  wind_degree                   69772 non-null  int64  \n",
            " 13  wind_direction                69772 non-null  object \n",
            " 14  pressure_mb                   69772 non-null  float64\n",
            " 15  pressure_in                   69772 non-null  float64\n",
            " 16  precip_mm                     69772 non-null  float64\n",
            " 17  precip_in                     69772 non-null  float64\n",
            " 18  humidity                      69772 non-null  int64  \n",
            " 19  cloud                         69772 non-null  int64  \n",
            " 20  feels_like_celsius            69772 non-null  float64\n",
            " 21  feels_like_fahrenheit         69772 non-null  float64\n",
            " 22  visibility_km                 69772 non-null  float64\n",
            " 23  visibility_miles              69772 non-null  float64\n",
            " 24  uv_index                      69772 non-null  float64\n",
            " 25  gust_mph                      69772 non-null  float64\n",
            " 26  gust_kph                      69772 non-null  float64\n",
            " 27  air_quality_Carbon_Monoxide   69772 non-null  float64\n",
            " 28  air_quality_Ozone             69772 non-null  float64\n",
            " 29  air_quality_Nitrogen_dioxide  69772 non-null  float64\n",
            " 30  air_quality_Sulphur_dioxide   69772 non-null  float64\n",
            " 31  air_quality_PM2.5             69772 non-null  float64\n",
            " 32  air_quality_PM10              69772 non-null  float64\n",
            " 33  air_quality_us-epa-index      69772 non-null  int64  \n",
            " 34  air_quality_gb-defra-index    69772 non-null  int64  \n",
            " 35  sunrise                       69772 non-null  object \n",
            " 36  sunset                        69772 non-null  object \n",
            " 37  moonrise                      69772 non-null  object \n",
            " 38  moonset                       69772 non-null  object \n",
            " 39  moon_phase                    69772 non-null  object \n",
            " 40  moon_illumination             69772 non-null  int64  \n",
            "dtypes: float64(23), int64(7), object(11)\n",
            "memory usage: 21.8+ MB\n",
            "None\n"
          ]
        }
      ]
    },
    {
      "cell_type": "code",
      "source": [],
      "metadata": {
        "id": "4v7eiXqBRA9O"
      },
      "execution_count": null,
      "outputs": []
    }
  ]
}